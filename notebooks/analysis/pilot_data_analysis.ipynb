{
 "cells": [
  {
   "cell_type": "markdown",
   "metadata": {},
   "source": [
    "Define the data path and read the FIF file and stimulus PC logs for pilot subject 2. While we're at it, tag each state in the dataframe with the start trigger that should have been sent."
   ]
  },
  {
   "cell_type": "code",
   "execution_count": 5,
   "metadata": {},
   "outputs": [
    {
     "name": "stdout",
     "output_type": "stream",
     "text": [
      "Opening raw data file C:\\Users\\gerce\\Documents\\Projects\\results\\syntax_im\\241018\\pilot03.fif...\n",
      "    Read a total of 17 projection items:\n",
      "        ssp_combined_0_68deg (1 x 306)  idle\n",
      "        ssp_combined_1_68deg (1 x 306)  idle\n",
      "        ssp_combined_2_68deg (1 x 306)  idle\n",
      "        ssp_combined_3_68deg (1 x 306)  idle\n",
      "        ssp_combined_4_68deg (1 x 306)  idle\n",
      "        ssp_combined_5_68deg (1 x 306)  idle\n",
      "        ssp_combined_6_68deg (1 x 306)  idle\n",
      "        ssp_combined_7_68deg (1 x 306)  idle\n",
      "        ssp_combined_8_68deg (1 x 306)  idle\n",
      "        ssp_combined_9_68deg (1 x 306)  idle\n",
      "        ssp_combined_10_68deg (1 x 306)  idle\n",
      "        ssp_combined_11_68deg (1 x 306)  idle\n",
      "        ssp_combined_12_68deg (1 x 306)  idle\n",
      "        ssp_combined_13_68deg (1 x 306)  idle\n",
      "        ssp_combined_14_68deg (1 x 306)  idle\n",
      "        ssp_combined_15_68deg (1 x 306)  idle\n",
      "        ssp_combined_16_68deg (1 x 306)  idle\n",
      "    Range : 19000 ... 1687999 =     19.000 ...  1687.999 secs\n",
      "Ready.\n",
      "Opening raw data file C:\\Users\\gerce\\Documents\\Projects\\results\\syntax_im\\241018\\pilot03-1.fif...\n",
      "    Read a total of 17 projection items:\n",
      "        ssp_combined_0_68deg (1 x 306)  idle\n",
      "        ssp_combined_1_68deg (1 x 306)  idle\n",
      "        ssp_combined_2_68deg (1 x 306)  idle\n",
      "        ssp_combined_3_68deg (1 x 306)  idle\n",
      "        ssp_combined_4_68deg (1 x 306)  idle\n",
      "        ssp_combined_5_68deg (1 x 306)  idle\n",
      "        ssp_combined_6_68deg (1 x 306)  idle\n",
      "        ssp_combined_7_68deg (1 x 306)  idle\n",
      "        ssp_combined_8_68deg (1 x 306)  idle\n",
      "        ssp_combined_9_68deg (1 x 306)  idle\n",
      "        ssp_combined_10_68deg (1 x 306)  idle\n",
      "        ssp_combined_11_68deg (1 x 306)  idle\n",
      "        ssp_combined_12_68deg (1 x 306)  idle\n",
      "        ssp_combined_13_68deg (1 x 306)  idle\n",
      "        ssp_combined_14_68deg (1 x 306)  idle\n",
      "        ssp_combined_15_68deg (1 x 306)  idle\n",
      "        ssp_combined_16_68deg (1 x 306)  idle\n",
      "    Range : 1688000 ... 2674999 =   1688.000 ...  2674.999 secs\n",
      "Ready.\n",
      "Reading 0 ... 2655999  =      0.000 ...  2655.999 secs...\n"
     ]
    },
    {
     "name": "stderr",
     "output_type": "stream",
     "text": [
      "C:\\Users\\gerce\\AppData\\Local\\Temp\\ipykernel_34916\\2641766265.py:9: RuntimeWarning: This filename (C:\\Users\\gerce\\Documents\\Projects\\results\\syntax_im\\241018\\pilot03.fif) does not conform to MNE naming conventions. All raw files should end with raw.fif, raw_sss.fif, raw_tsss.fif, _meg.fif, _eeg.fif, _ieeg.fif, raw.fif.gz, raw_sss.fif.gz, raw_tsss.fif.gz, _meg.fif.gz, _eeg.fif.gz or _ieeg.fif.gz\n",
      "  raw = mne.io.read_raw_fif(datapath / \"pilot03.fif\", preload=True)\n"
     ]
    },
    {
     "ename": "KeyError",
     "evalue": "'pause'",
     "output_type": "error",
     "traceback": [
      "\u001b[1;31m---------------------------------------------------------------------------\u001b[0m",
      "\u001b[1;31mKeyError\u001b[0m                                  Traceback (most recent call last)",
      "Cell \u001b[1;32mIn[5], line 54\u001b[0m\n\u001b[0;32m     51\u001b[0m         v \u001b[38;5;241m=\u001b[39m v[row[\u001b[38;5;124m\"\u001b[39m\u001b[38;5;124mcondition\u001b[39m\u001b[38;5;124m\"\u001b[39m]]\n\u001b[0;32m     52\u001b[0m     \u001b[38;5;28;01mreturn\u001b[39;00m v\n\u001b[1;32m---> 54\u001b[0m statesdf[\u001b[38;5;124m\"\u001b[39m\u001b[38;5;124mtrigger\u001b[39m\u001b[38;5;124m\"\u001b[39m] \u001b[38;5;241m=\u001b[39m \u001b[43mstatesdf\u001b[49m\u001b[38;5;241;43m.\u001b[39;49m\u001b[43mapply\u001b[49m\u001b[43m(\u001b[49m\u001b[43mget_trig\u001b[49m\u001b[43m,\u001b[49m\u001b[43m \u001b[49m\u001b[43maxis\u001b[49m\u001b[38;5;241;43m=\u001b[39;49m\u001b[38;5;241;43m1\u001b[39;49m\u001b[43m,\u001b[49m\u001b[43m \u001b[49m\u001b[43mtrigmap\u001b[49m\u001b[38;5;241;43m=\u001b[39;49m\u001b[43mtrigmap2w\u001b[49m\u001b[43m)\u001b[49m\n",
      "File \u001b[1;32mc:\\Users\\gerce\\Documents\\Projects\\language-intermodulation\\.venv\\lib\\site-packages\\pandas\\core\\frame.py:10374\u001b[0m, in \u001b[0;36mDataFrame.apply\u001b[1;34m(self, func, axis, raw, result_type, args, by_row, engine, engine_kwargs, **kwargs)\u001b[0m\n\u001b[0;32m  10360\u001b[0m \u001b[38;5;28;01mfrom\u001b[39;00m \u001b[38;5;21;01mpandas\u001b[39;00m\u001b[38;5;21;01m.\u001b[39;00m\u001b[38;5;21;01mcore\u001b[39;00m\u001b[38;5;21;01m.\u001b[39;00m\u001b[38;5;21;01mapply\u001b[39;00m \u001b[38;5;28;01mimport\u001b[39;00m frame_apply\n\u001b[0;32m  10362\u001b[0m op \u001b[38;5;241m=\u001b[39m frame_apply(\n\u001b[0;32m  10363\u001b[0m     \u001b[38;5;28mself\u001b[39m,\n\u001b[0;32m  10364\u001b[0m     func\u001b[38;5;241m=\u001b[39mfunc,\n\u001b[1;32m   (...)\u001b[0m\n\u001b[0;32m  10372\u001b[0m     kwargs\u001b[38;5;241m=\u001b[39mkwargs,\n\u001b[0;32m  10373\u001b[0m )\n\u001b[1;32m> 10374\u001b[0m \u001b[38;5;28;01mreturn\u001b[39;00m \u001b[43mop\u001b[49m\u001b[38;5;241;43m.\u001b[39;49m\u001b[43mapply\u001b[49m\u001b[43m(\u001b[49m\u001b[43m)\u001b[49m\u001b[38;5;241m.\u001b[39m__finalize__(\u001b[38;5;28mself\u001b[39m, method\u001b[38;5;241m=\u001b[39m\u001b[38;5;124m\"\u001b[39m\u001b[38;5;124mapply\u001b[39m\u001b[38;5;124m\"\u001b[39m)\n",
      "File \u001b[1;32mc:\\Users\\gerce\\Documents\\Projects\\language-intermodulation\\.venv\\lib\\site-packages\\pandas\\core\\apply.py:916\u001b[0m, in \u001b[0;36mFrameApply.apply\u001b[1;34m(self)\u001b[0m\n\u001b[0;32m    913\u001b[0m \u001b[38;5;28;01melif\u001b[39;00m \u001b[38;5;28mself\u001b[39m\u001b[38;5;241m.\u001b[39mraw:\n\u001b[0;32m    914\u001b[0m     \u001b[38;5;28;01mreturn\u001b[39;00m \u001b[38;5;28mself\u001b[39m\u001b[38;5;241m.\u001b[39mapply_raw(engine\u001b[38;5;241m=\u001b[39m\u001b[38;5;28mself\u001b[39m\u001b[38;5;241m.\u001b[39mengine, engine_kwargs\u001b[38;5;241m=\u001b[39m\u001b[38;5;28mself\u001b[39m\u001b[38;5;241m.\u001b[39mengine_kwargs)\n\u001b[1;32m--> 916\u001b[0m \u001b[38;5;28;01mreturn\u001b[39;00m \u001b[38;5;28;43mself\u001b[39;49m\u001b[38;5;241;43m.\u001b[39;49m\u001b[43mapply_standard\u001b[49m\u001b[43m(\u001b[49m\u001b[43m)\u001b[49m\n",
      "File \u001b[1;32mc:\\Users\\gerce\\Documents\\Projects\\language-intermodulation\\.venv\\lib\\site-packages\\pandas\\core\\apply.py:1063\u001b[0m, in \u001b[0;36mFrameApply.apply_standard\u001b[1;34m(self)\u001b[0m\n\u001b[0;32m   1061\u001b[0m \u001b[38;5;28;01mdef\u001b[39;00m \u001b[38;5;21mapply_standard\u001b[39m(\u001b[38;5;28mself\u001b[39m):\n\u001b[0;32m   1062\u001b[0m     \u001b[38;5;28;01mif\u001b[39;00m \u001b[38;5;28mself\u001b[39m\u001b[38;5;241m.\u001b[39mengine \u001b[38;5;241m==\u001b[39m \u001b[38;5;124m\"\u001b[39m\u001b[38;5;124mpython\u001b[39m\u001b[38;5;124m\"\u001b[39m:\n\u001b[1;32m-> 1063\u001b[0m         results, res_index \u001b[38;5;241m=\u001b[39m \u001b[38;5;28;43mself\u001b[39;49m\u001b[38;5;241;43m.\u001b[39;49m\u001b[43mapply_series_generator\u001b[49m\u001b[43m(\u001b[49m\u001b[43m)\u001b[49m\n\u001b[0;32m   1064\u001b[0m     \u001b[38;5;28;01melse\u001b[39;00m:\n\u001b[0;32m   1065\u001b[0m         results, res_index \u001b[38;5;241m=\u001b[39m \u001b[38;5;28mself\u001b[39m\u001b[38;5;241m.\u001b[39mapply_series_numba()\n",
      "File \u001b[1;32mc:\\Users\\gerce\\Documents\\Projects\\language-intermodulation\\.venv\\lib\\site-packages\\pandas\\core\\apply.py:1081\u001b[0m, in \u001b[0;36mFrameApply.apply_series_generator\u001b[1;34m(self)\u001b[0m\n\u001b[0;32m   1078\u001b[0m \u001b[38;5;28;01mwith\u001b[39;00m option_context(\u001b[38;5;124m\"\u001b[39m\u001b[38;5;124mmode.chained_assignment\u001b[39m\u001b[38;5;124m\"\u001b[39m, \u001b[38;5;28;01mNone\u001b[39;00m):\n\u001b[0;32m   1079\u001b[0m     \u001b[38;5;28;01mfor\u001b[39;00m i, v \u001b[38;5;129;01min\u001b[39;00m \u001b[38;5;28menumerate\u001b[39m(series_gen):\n\u001b[0;32m   1080\u001b[0m         \u001b[38;5;66;03m# ignore SettingWithCopy here in case the user mutates\u001b[39;00m\n\u001b[1;32m-> 1081\u001b[0m         results[i] \u001b[38;5;241m=\u001b[39m \u001b[38;5;28mself\u001b[39m\u001b[38;5;241m.\u001b[39mfunc(v, \u001b[38;5;241m*\u001b[39m\u001b[38;5;28mself\u001b[39m\u001b[38;5;241m.\u001b[39margs, \u001b[38;5;241m*\u001b[39m\u001b[38;5;241m*\u001b[39m\u001b[38;5;28mself\u001b[39m\u001b[38;5;241m.\u001b[39mkwargs)\n\u001b[0;32m   1082\u001b[0m         \u001b[38;5;28;01mif\u001b[39;00m \u001b[38;5;28misinstance\u001b[39m(results[i], ABCSeries):\n\u001b[0;32m   1083\u001b[0m             \u001b[38;5;66;03m# If we have a view on v, we need to make a copy because\u001b[39;00m\n\u001b[0;32m   1084\u001b[0m             \u001b[38;5;66;03m#  series_generator will swap out the underlying data\u001b[39;00m\n\u001b[0;32m   1085\u001b[0m             results[i] \u001b[38;5;241m=\u001b[39m results[i]\u001b[38;5;241m.\u001b[39mcopy(deep\u001b[38;5;241m=\u001b[39m\u001b[38;5;28;01mFalse\u001b[39;00m)\n",
      "Cell \u001b[1;32mIn[5], line 49\u001b[0m, in \u001b[0;36mget_trig\u001b[1;34m(row, trigmap)\u001b[0m\n\u001b[0;32m     48\u001b[0m \u001b[38;5;28;01mdef\u001b[39;00m \u001b[38;5;21mget_trig\u001b[39m(row, trigmap):\n\u001b[1;32m---> 49\u001b[0m     v \u001b[38;5;241m=\u001b[39m \u001b[43mtrigmap\u001b[49m\u001b[43m[\u001b[49m\u001b[43mrow\u001b[49m\u001b[43m[\u001b[49m\u001b[38;5;124;43m\"\u001b[39;49m\u001b[38;5;124;43mstate\u001b[39;49m\u001b[38;5;124;43m\"\u001b[39;49m\u001b[43m]\u001b[49m\u001b[43m]\u001b[49m\n\u001b[0;32m     50\u001b[0m     \u001b[38;5;28;01mif\u001b[39;00m \u001b[38;5;28misinstance\u001b[39m(v, \u001b[38;5;28mdict\u001b[39m):\n\u001b[0;32m     51\u001b[0m         v \u001b[38;5;241m=\u001b[39m v[row[\u001b[38;5;124m\"\u001b[39m\u001b[38;5;124mcondition\u001b[39m\u001b[38;5;124m\"\u001b[39m]]\n",
      "\u001b[1;31mKeyError\u001b[0m: 'pause'"
     ]
    }
   ],
   "source": [
    "import mne\n",
    "import pandas as pd\n",
    "import numpy as np\n",
    "from pathlib import Path\n",
    "\n",
    "from intermodulation.freqtag_spec import TRIGGERS\n",
    "\n",
    "datapath = Path(\"C:/Users/gerce/Documents/Projects/results/syntax_im/241018/\")\n",
    "raw = mne.io.read_raw_fif(datapath / \"pilot03.fif\", preload=True)\n",
    "logs2w = pd.read_pickle(datapath / \"2024-10-18T16_2word_experiment.pkl\")\n",
    "logs1w = pd.read_pickle(datapath / \"2024-10-18T16_1word_experiment.pkl\")\n",
    "statesdf = logs2w[\"states\"]\n",
    "contdf = logs2w[\"continuous\"]\n",
    "\n",
    "# No correct/incorrect label for queries, so we need to manually check the prev state\n",
    "statesdf[\"query_corr\"] = pd.NA\n",
    "for i, row in statesdf.iterrows():\n",
    "    if i == 0:\n",
    "        continue\n",
    "    if row[\"state\"] == \"query\":\n",
    "        prevwords = statesdf.loc[i - 1, [\"word1\", \"word2\"]]\n",
    "        statesdf.loc[i, \"query_corr\"] = np.isin(row[\"word1\"], prevwords)\n",
    "\n",
    "# Assign a map of states to triggers\n",
    "trigmap_base = {\n",
    "    \"fixation\": pd.NA,\n",
    "    \"intertrial\": pd.NA,\n",
    "    \"query\": pd.NA,\n",
    "    \"pause\": TRIGGERS.PAUSE,\n",
    "}\n",
    "\n",
    "trigmap2w = {\n",
    "    \"words\": {\n",
    "        \"phrase\": TRIGGERS.TWOWORD.PHRASE,\n",
    "        \"non-phrase\": TRIGGERS.TWOWORD.NONPHRASE,\n",
    "        \"non-word\": TRIGGERS.TWOWORD.NONWORD,\n",
    "    },\n",
    "    **trigmap_base,\n",
    "}\n",
    "trigmap1w = {\n",
    "    \"word\": {\n",
    "        \"word\": TRIGGERS.ONEWORD.WORD,\n",
    "        \"non-word\": TRIGGERS.ONEWORD.NONWORD,\n",
    "    },\n",
    "    **trigmap_base,\n",
    "}\n",
    "\n",
    "\n",
    "def get_trig(row, trigmap):\n",
    "    v = trigmap[row[\"state\"]]\n",
    "    if isinstance(v, dict):\n",
    "        v = v[row[\"condition\"]]\n",
    "    return v\n",
    "\n",
    "\n",
    "statesdf[\"trigger\"] = statesdf.apply(get_trig, axis=1, trigmap=trigmap2w)"
   ]
  },
  {
   "cell_type": "markdown",
   "metadata": {},
   "source": [
    "Align the timestamps for the two datasets, given that clock drift is known to exist between the two sources"
   ]
  },
  {
   "cell_type": "code",
   "execution_count": null,
   "metadata": {},
   "outputs": [],
   "source": []
  }
 ],
 "metadata": {
  "kernelspec": {
   "display_name": ".venv",
   "language": "python",
   "name": "python3"
  },
  "language_info": {
   "codemirror_mode": {
    "name": "ipython",
    "version": 3
   },
   "file_extension": ".py",
   "mimetype": "text/x-python",
   "name": "python",
   "nbconvert_exporter": "python",
   "pygments_lexer": "ipython3",
   "version": "3.10.15"
  }
 },
 "nbformat": 4,
 "nbformat_minor": 2
}
