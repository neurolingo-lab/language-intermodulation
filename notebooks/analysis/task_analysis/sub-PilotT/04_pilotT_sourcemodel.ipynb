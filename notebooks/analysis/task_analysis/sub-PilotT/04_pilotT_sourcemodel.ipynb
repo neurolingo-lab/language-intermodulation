{
 "cells": [
  {
   "cell_type": "code",
   "execution_count": 2,
   "metadata": {},
   "outputs": [
    {
     "name": "stdout",
     "output_type": "stream",
     "text": [
      "Using matplotlib as 2D backend.\n"
     ]
    },
    {
     "ename": "RuntimeError",
     "evalue": "The FREESURFER_HOME environment variable is not set.",
     "output_type": "error",
     "traceback": [
      "\u001b[0;31m---------------------------------------------------------------------------\u001b[0m",
      "\u001b[0;31mRuntimeError\u001b[0m                              Traceback (most recent call last)",
      "Cell \u001b[0;32mIn[2], line 18\u001b[0m\n\u001b[1;32m     16\u001b[0m t1fn \u001b[38;5;241m=\u001b[39m datapath \u001b[38;5;241m/\u001b[39m \u001b[38;5;124mf\u001b[39m\u001b[38;5;124m\"\u001b[39m\u001b[38;5;124mderivatives/freesurfer/sub-\u001b[39m\u001b[38;5;132;01m{\u001b[39;00mSUB\u001b[38;5;132;01m}\u001b[39;00m\u001b[38;5;124m/mri/T1.mgz\u001b[39m\u001b[38;5;124m\"\u001b[39m\n\u001b[1;32m     17\u001b[0m t1 \u001b[38;5;241m=\u001b[39m nib\u001b[38;5;241m.\u001b[39mload(t1fn)\n\u001b[0;32m---> 18\u001b[0m \u001b[43mmne\u001b[49m\u001b[38;5;241;43m.\u001b[39;49m\u001b[43mbem\u001b[49m\u001b[38;5;241;43m.\u001b[39;49m\u001b[43mmake_watershed_bem\u001b[49m\u001b[43m(\u001b[49m\n\u001b[1;32m     19\u001b[0m \u001b[43m    \u001b[49m\u001b[43msubject\u001b[49m\u001b[38;5;241;43m=\u001b[39;49m\u001b[38;5;124;43m\"\u001b[39;49m\u001b[38;5;124;43msub-\u001b[39;49m\u001b[38;5;124;43m\"\u001b[39;49m\u001b[43m \u001b[49m\u001b[38;5;241;43m+\u001b[39;49m\u001b[43m \u001b[49m\u001b[43mSUB\u001b[49m\u001b[43m,\u001b[49m\n\u001b[1;32m     20\u001b[0m \u001b[43m    \u001b[49m\u001b[43msubjects_dir\u001b[49m\u001b[38;5;241;43m=\u001b[39;49m\u001b[43mdatapath\u001b[49m\u001b[43m \u001b[49m\u001b[38;5;241;43m/\u001b[39;49m\u001b[43m \u001b[49m\u001b[38;5;124;43m\"\u001b[39;49m\u001b[38;5;124;43mderivatives/freesurfer/\u001b[39;49m\u001b[38;5;124;43m\"\u001b[39;49m\u001b[43m,\u001b[49m\n\u001b[1;32m     21\u001b[0m \u001b[43m    \u001b[49m\u001b[43moverwrite\u001b[49m\u001b[38;5;241;43m=\u001b[39;49m\u001b[38;5;28;43;01mTrue\u001b[39;49;00m\u001b[43m,\u001b[49m\n\u001b[1;32m     22\u001b[0m \u001b[43m    \u001b[49m\u001b[43mcopy\u001b[49m\u001b[38;5;241;43m=\u001b[39;49m\u001b[38;5;28;43;01mTrue\u001b[39;49;00m\u001b[43m,\u001b[49m\n\u001b[1;32m     23\u001b[0m \u001b[43m)\u001b[49m\n",
      "File \u001b[0;32m<decorator-gen-116>:12\u001b[0m, in \u001b[0;36mmake_watershed_bem\u001b[0;34m(subject, subjects_dir, overwrite, volume, atlas, gcaatlas, preflood, show, copy, T1, brainmask, verbose)\u001b[0m\n",
      "File \u001b[0;32m/tmp/gercek_li_venv/lib/python3.10/site-packages/mne/bem.py:1245\u001b[0m, in \u001b[0;36mmake_watershed_bem\u001b[0;34m(subject, subjects_dir, overwrite, volume, atlas, gcaatlas, preflood, show, copy, T1, brainmask, verbose)\u001b[0m\n\u001b[1;32m   1175\u001b[0m \u001b[38;5;129m@verbose\u001b[39m\n\u001b[1;32m   1176\u001b[0m \u001b[38;5;28;01mdef\u001b[39;00m \u001b[38;5;21mmake_watershed_bem\u001b[39m(\n\u001b[1;32m   1177\u001b[0m     subject,\n\u001b[0;32m   (...)\u001b[0m\n\u001b[1;32m   1188\u001b[0m     verbose\u001b[38;5;241m=\u001b[39m\u001b[38;5;28;01mNone\u001b[39;00m,\n\u001b[1;32m   1189\u001b[0m ):\n\u001b[1;32m   1190\u001b[0m \u001b[38;5;250m    \u001b[39m\u001b[38;5;124;03m\"\"\"Create BEM surfaces using the FreeSurfer watershed algorithm.\u001b[39;00m\n\u001b[1;32m   1191\u001b[0m \n\u001b[1;32m   1192\u001b[0m \u001b[38;5;124;03m    See :ref:`bem_watershed_algorithm` for additional information.\u001b[39;00m\n\u001b[0;32m   (...)\u001b[0m\n\u001b[1;32m   1243\u001b[0m \u001b[38;5;124;03m    .. versionadded:: 0.10\u001b[39;00m\n\u001b[1;32m   1244\u001b[0m \u001b[38;5;124;03m    \"\"\"\u001b[39;00m\n\u001b[0;32m-> 1245\u001b[0m     env, mri_dir, bem_dir \u001b[38;5;241m=\u001b[39m \u001b[43m_prepare_env\u001b[49m\u001b[43m(\u001b[49m\u001b[43msubject\u001b[49m\u001b[43m,\u001b[49m\u001b[43m \u001b[49m\u001b[43msubjects_dir\u001b[49m\u001b[43m)\u001b[49m\n\u001b[1;32m   1246\u001b[0m     tempdir \u001b[38;5;241m=\u001b[39m _TempDir()  \u001b[38;5;66;03m# fsl and Freesurfer create some random junk in CWD\u001b[39;00m\n\u001b[1;32m   1247\u001b[0m     run_subprocess_env \u001b[38;5;241m=\u001b[39m partial(run_subprocess, env\u001b[38;5;241m=\u001b[39menv, cwd\u001b[38;5;241m=\u001b[39mtempdir)\n",
      "File \u001b[0;32m/tmp/gercek_li_venv/lib/python3.10/site-packages/mne/bem.py:1902\u001b[0m, in \u001b[0;36m_prepare_env\u001b[0;34m(subject, subjects_dir)\u001b[0m\n\u001b[1;32m   1899\u001b[0m \u001b[38;5;250m\u001b[39m\u001b[38;5;124;03m\"\"\"Prepare an env object for subprocess calls.\"\"\"\u001b[39;00m\n\u001b[1;32m   1900\u001b[0m env \u001b[38;5;241m=\u001b[39m os\u001b[38;5;241m.\u001b[39menviron\u001b[38;5;241m.\u001b[39mcopy()\n\u001b[0;32m-> 1902\u001b[0m fs_home \u001b[38;5;241m=\u001b[39m \u001b[43m_check_freesurfer_home\u001b[49m\u001b[43m(\u001b[49m\u001b[43m)\u001b[49m\n\u001b[1;32m   1904\u001b[0m _validate_type(subject, \u001b[38;5;124m\"\u001b[39m\u001b[38;5;124mstr\u001b[39m\u001b[38;5;124m\"\u001b[39m)\n\u001b[1;32m   1906\u001b[0m subjects_dir \u001b[38;5;241m=\u001b[39m get_subjects_dir(subjects_dir, raise_error\u001b[38;5;241m=\u001b[39m\u001b[38;5;28;01mTrue\u001b[39;00m)\n",
      "File \u001b[0;32m/tmp/gercek_li_venv/lib/python3.10/site-packages/mne/utils/check.py:1166\u001b[0m, in \u001b[0;36m_check_freesurfer_home\u001b[0;34m()\u001b[0m\n\u001b[1;32m   1164\u001b[0m fs_home \u001b[38;5;241m=\u001b[39m get_config(\u001b[38;5;124m\"\u001b[39m\u001b[38;5;124mFREESURFER_HOME\u001b[39m\u001b[38;5;124m\"\u001b[39m)\n\u001b[1;32m   1165\u001b[0m \u001b[38;5;28;01mif\u001b[39;00m fs_home \u001b[38;5;129;01mis\u001b[39;00m \u001b[38;5;28;01mNone\u001b[39;00m:\n\u001b[0;32m-> 1166\u001b[0m     \u001b[38;5;28;01mraise\u001b[39;00m \u001b[38;5;167;01mRuntimeError\u001b[39;00m(\u001b[38;5;124m\"\u001b[39m\u001b[38;5;124mThe FREESURFER_HOME environment variable is not set.\u001b[39m\u001b[38;5;124m\"\u001b[39m)\n\u001b[1;32m   1167\u001b[0m \u001b[38;5;28;01mreturn\u001b[39;00m fs_home\n",
      "\u001b[0;31mRuntimeError\u001b[0m: The FREESURFER_HOME environment variable is not set."
     ]
    }
   ],
   "source": [
    "import mne\n",
    "import pandas as pd\n",
    "import numpy as np\n",
    "from autoreject import AutoReject\n",
    "from pathlib import Path\n",
    "from scipy.interpolate import interp1d\n",
    "import nibabel as nib\n",
    "\n",
    "mne.set_config(\"MNE_BROWSER_BACKEND\", \"matplotlib\")\n",
    "%matplotlib inline\n",
    "\n",
    "# Load the epoched data\n",
    "SUB = \"PilotT\"\n",
    "\n",
    "datapath = Path(\"/home/gercek/scratch/syntax_im/syntax_dataset/\")\n",
    "t1fn = datapath / f\"derivatives/freesurfer/sub-{SUB}/mri/T1.mgz\"\n",
    "t1 = nib.load(t1fn)\n",
    "mne.bem.make_watershed_bem(\n",
    "    subject=\"sub-\" + SUB,\n",
    "    subjects_dir=datapath / \"derivatives/freesurfer/\",\n",
    "    overwrite=True,\n",
    "    copy=True,\n",
    ")"
   ]
  },
  {
   "cell_type": "code",
   "execution_count": null,
   "metadata": {},
   "outputs": [],
   "source": []
  }
 ],
 "metadata": {
  "kernelspec": {
   "display_name": "gercek_li_venv",
   "language": "python",
   "name": "python3"
  },
  "language_info": {
   "codemirror_mode": {
    "name": "ipython",
    "version": 3
   },
   "file_extension": ".py",
   "mimetype": "text/x-python",
   "name": "python",
   "nbconvert_exporter": "python",
   "pygments_lexer": "ipython3",
   "version": "3.10.15"
  }
 },
 "nbformat": 4,
 "nbformat_minor": 2
}
